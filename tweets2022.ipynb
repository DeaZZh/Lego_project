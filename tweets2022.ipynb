{
  "nbformat": 4,
  "nbformat_minor": 0,
  "metadata": {
    "colab": {
      "provenance": []
    },
    "kernelspec": {
      "name": "python3",
      "display_name": "Python 3"
    },
    "language_info": {
      "name": "python"
    }
  },
  "cells": [
    {
      "cell_type": "code",
      "execution_count": null,
      "metadata": {
        "colab": {
          "base_uri": "https://localhost:8080/"
        },
        "id": "DNsyl5yacnDA",
        "outputId": "c98a002c-9bf3-4a6a-a409-8ca895abc254"
      },
      "outputs": [
        {
          "output_type": "stream",
          "name": "stdout",
          "text": [
            "Looking in indexes: https://pypi.org/simple, https://us-python.pkg.dev/colab-wheels/public/simple/\n",
            "Collecting snscrape\n",
            "  Downloading snscrape-0.3.4-py3-none-any.whl (35 kB)\n",
            "Requirement already satisfied: lxml in /usr/local/lib/python3.7/dist-packages (from snscrape) (4.9.1)\n",
            "Requirement already satisfied: requests[socks] in /usr/local/lib/python3.7/dist-packages (from snscrape) (2.23.0)\n",
            "Requirement already satisfied: beautifulsoup4 in /usr/local/lib/python3.7/dist-packages (from snscrape) (4.6.3)\n",
            "Requirement already satisfied: certifi>=2017.4.17 in /usr/local/lib/python3.7/dist-packages (from requests[socks]->snscrape) (2022.9.24)\n",
            "Requirement already satisfied: idna<3,>=2.5 in /usr/local/lib/python3.7/dist-packages (from requests[socks]->snscrape) (2.10)\n",
            "Requirement already satisfied: chardet<4,>=3.0.2 in /usr/local/lib/python3.7/dist-packages (from requests[socks]->snscrape) (3.0.4)\n",
            "Requirement already satisfied: urllib3!=1.25.0,!=1.25.1,<1.26,>=1.21.1 in /usr/local/lib/python3.7/dist-packages (from requests[socks]->snscrape) (1.24.3)\n",
            "Requirement already satisfied: PySocks!=1.5.7,>=1.5.6 in /usr/local/lib/python3.7/dist-packages (from requests[socks]->snscrape) (1.7.1)\n",
            "Installing collected packages: snscrape\n",
            "Successfully installed snscrape-0.3.4\n"
          ]
        }
      ],
      "source": [
        "! pip install snscrape"
      ]
    },
    {
      "cell_type": "code",
      "source": [
        "import snscrape.modules.twitter as sntwitter\n",
        "import pandas as pd\n",
        "from datetime import date, timedelta"
      ],
      "metadata": {
        "id": "Wg2bGT3ccxT7"
      },
      "execution_count": null,
      "outputs": []
    },
    {
      "cell_type": "code",
      "source": [
        "# Creating list to append tweet data to\n",
        "tweets_list = []\n",
        "key='LEGO'\n",
        "start_date = date(2022, 1, 1)\n",
        "end_date = date(2022, 1, 31)\n",
        "delta = end_date - start_date\n",
        "for i in range(delta.days + 1):\n",
        "    day_start = start_date + timedelta(days=i)\n",
        "    day_end=day_start+timedelta(days=1)\n",
        "    input=str(key+' '+'since:'+str(day_start)+' '+'until:'+str(day_end))\n",
        "    # Using TwitterSearchScraper to scrape data and append tweets to list\n",
        "    for i,tweet in enumerate(sntwitter.TwitterSearchScraper(input).get_items()):\n",
        "      if i>1000:\n",
        "        break\n",
        "      tweets_list.append([tweet.date, tweet.content])\n",
        "\n",
        "# Creating a dataframe from the tweets list above\n",
        "tweets_2022_Jan= pd.DataFrame(tweets_list, columns=[\"Date Created\", \"Tweet\"])"
      ],
      "metadata": {
        "id": "pqrHp73Ic2NO"
      },
      "execution_count": null,
      "outputs": []
    },
    {
      "cell_type": "code",
      "source": [
        "tweets_2022_Jan.head"
      ],
      "metadata": {
        "id": "bVa7x5QKkBJu"
      },
      "execution_count": null,
      "outputs": []
    },
    {
      "cell_type": "code",
      "source": [
        "# Creating list to append tweet data to\n",
        "tweets_list = []\n",
        "key='LEGO'\n",
        "start_date = date(2022, 2, 1)\n",
        "end_date = date(2022, 2, 28)\n",
        "delta = end_date - start_date\n",
        "for i in range(delta.days + 1):\n",
        "    day_start = start_date + timedelta(days=i)\n",
        "    day_end=day_start+timedelta(days=1)\n",
        "    input=str(key+' '+'since:'+str(day_start)+' '+'until:'+str(day_end))\n",
        "    # Using TwitterSearchScraper to scrape data and append tweets to list\n",
        "    for i,tweet in enumerate(sntwitter.TwitterSearchScraper(input).get_items()):\n",
        "      if i>1000:\n",
        "        break\n",
        "      tweets_list.append([tweet.date, tweet.content])\n",
        "\n",
        "# Creating a dataframe from the tweets list above\n",
        "tweets_2022_feb= pd.DataFrame(tweets_list, columns=[\"Date Created\", \"Tweet\"])"
      ],
      "metadata": {
        "id": "soJdwPyDkJ7J"
      },
      "execution_count": null,
      "outputs": []
    },
    {
      "cell_type": "code",
      "source": [
        "# Creating list to append tweet data to\n",
        "tweets_list = []\n",
        "key='LEGO'\n",
        "start_date = date(2022, 3, 1)\n",
        "end_date = date(2022, 3, 31)\n",
        "delta = end_date - start_date\n",
        "for i in range(delta.days + 1):\n",
        "    day_start = start_date + timedelta(days=i)\n",
        "    day_end=day_start+timedelta(days=1)\n",
        "    input=str(key+' '+'since:'+str(day_start)+' '+'until:'+str(day_end))\n",
        "    # Using TwitterSearchScraper to scrape data and append tweets to list\n",
        "    for i,tweet in enumerate(sntwitter.TwitterSearchScraper(input).get_items()):\n",
        "      if i>1000:\n",
        "        break\n",
        "      tweets_list.append([tweet.date, tweet.content])\n",
        "\n",
        "# Creating a dataframe from the tweets list above\n",
        "tweets_2022_mar= pd.DataFrame(tweets_list, columns=[\"Date Created\", \"Tweet\"])"
      ],
      "metadata": {
        "id": "uhstoS2rkfNt"
      },
      "execution_count": null,
      "outputs": []
    },
    {
      "cell_type": "code",
      "source": [
        "# Creating list to append tweet data to\n",
        "tweets_list = []\n",
        "key='LEGO'\n",
        "start_date = date(2022, 4, 1)\n",
        "end_date = date(2022, 4, 30)\n",
        "delta = end_date - start_date\n",
        "for i in range(delta.days + 1):\n",
        "    day_start = start_date + timedelta(days=i)\n",
        "    day_end=day_start+timedelta(days=1)\n",
        "    input=str(key+' '+'since:'+str(day_start)+' '+'until:'+str(day_end))\n",
        "    # Using TwitterSearchScraper to scrape data and append tweets to list\n",
        "    for i,tweet in enumerate(sntwitter.TwitterSearchScraper(input).get_items()):\n",
        "      if i>1000:\n",
        "        break\n",
        "      tweets_list.append([tweet.date, tweet.content])\n",
        "\n",
        "# Creating a dataframe from the tweets list above\n",
        "tweets_2022_Apr= pd.DataFrame(tweets_list, columns=[\"Date Created\", \"Tweet\"])"
      ],
      "metadata": {
        "id": "n6gxElcgkkAb"
      },
      "execution_count": null,
      "outputs": []
    },
    {
      "cell_type": "code",
      "source": [
        "# Creating list to append tweet data to\n",
        "tweets_list = []\n",
        "key='LEGO'\n",
        "start_date = date(2022, 5, 1)\n",
        "end_date = date(2022, 5, 31)\n",
        "delta = end_date - start_date\n",
        "for i in range(delta.days + 1):\n",
        "    day_start = start_date + timedelta(days=i)\n",
        "    day_end=day_start+timedelta(days=1)\n",
        "    input=str(key+' '+'since:'+str(day_start)+' '+'until:'+str(day_end))\n",
        "    # Using TwitterSearchScraper to scrape data and append tweets to list\n",
        "    for i,tweet in enumerate(sntwitter.TwitterSearchScraper(input).get_items()):\n",
        "      if i>1000:\n",
        "        break\n",
        "      tweets_list.append([tweet.date, tweet.content])\n",
        "\n",
        "# Creating a dataframe from the tweets list above\n",
        "tweets_2022_May= pd.DataFrame(tweets_list, columns=[\"Date Created\", \"Tweet\"])"
      ],
      "metadata": {
        "id": "gv_jqLkqkpr7"
      },
      "execution_count": null,
      "outputs": []
    },
    {
      "cell_type": "code",
      "source": [
        "# Creating list to append tweet data to\n",
        "tweets_list = []\n",
        "key='LEGO'\n",
        "start_date = date(2022, 6, 1)\n",
        "end_date = date(2022, 6, 30)\n",
        "delta = end_date - start_date\n",
        "for i in range(delta.days + 1):\n",
        "    day_start = start_date + timedelta(days=i)\n",
        "    day_end=day_start+timedelta(days=1)\n",
        "    input=str(key+' '+'since:'+str(day_start)+' '+'until:'+str(day_end))\n",
        "    # Using TwitterSearchScraper to scrape data and append tweets to list\n",
        "    for i,tweet in enumerate(sntwitter.TwitterSearchScraper(input).get_items()):\n",
        "      if i>1000:\n",
        "        break\n",
        "      tweets_list.append([tweet.date, tweet.content])\n",
        "\n",
        "# Creating a dataframe from the tweets list above\n",
        "tweets_2022_Jun= pd.DataFrame(tweets_list, columns=[\"Date Created\", \"Tweet\"])"
      ],
      "metadata": {
        "id": "URE3XASAkzdY"
      },
      "execution_count": null,
      "outputs": []
    },
    {
      "cell_type": "code",
      "source": [
        "# Creating list to append tweet data to\n",
        "tweets_list = []\n",
        "key='LEGO'\n",
        "start_date = date(2022, 7, 1)\n",
        "end_date = date(2022, 7, 31)\n",
        "delta = end_date - start_date\n",
        "for i in range(delta.days + 1):\n",
        "    day_start = start_date + timedelta(days=i)\n",
        "    day_end=day_start+timedelta(days=1)\n",
        "    input=str(key+' '+'since:'+str(day_start)+' '+'until:'+str(day_end))\n",
        "    # Using TwitterSearchScraper to scrape data and append tweets to list\n",
        "    for i,tweet in enumerate(sntwitter.TwitterSearchScraper(input).get_items()):\n",
        "      if i>1000:\n",
        "        break\n",
        "      tweets_list.append([tweet.date, tweet.content])\n",
        "\n",
        "# Creating a dataframe from the tweets list above\n",
        "tweets_2022_Jul= pd.DataFrame(tweets_list, columns=[\"Date Created\", \"Tweet\"])"
      ],
      "metadata": {
        "id": "zYwNioynk3Yq"
      },
      "execution_count": null,
      "outputs": []
    },
    {
      "cell_type": "code",
      "source": [
        "# Creating list to append tweet data to\n",
        "tweets_list = []\n",
        "key='LEGO'\n",
        "start_date = date(2022, 8, 1)\n",
        "end_date = date(2022, 8, 31)\n",
        "delta = end_date - start_date\n",
        "for i in range(delta.days + 1):\n",
        "    day_start = start_date + timedelta(days=i)\n",
        "    day_end=day_start+timedelta(days=1)\n",
        "    input=str(key+' '+'since:'+str(day_start)+' '+'until:'+str(day_end))\n",
        "    # Using TwitterSearchScraper to scrape data and append tweets to list\n",
        "    for i,tweet in enumerate(sntwitter.TwitterSearchScraper(input).get_items()):\n",
        "      if i>1000:\n",
        "        break\n",
        "      tweets_list.append([tweet.date, tweet.content])\n",
        "\n",
        "# Creating a dataframe from the tweets list above\n",
        "tweets_2022_Aug= pd.DataFrame(tweets_list, columns=[\"Date Created\", \"Tweet\"])"
      ],
      "metadata": {
        "id": "jL8QEy5hlTvj"
      },
      "execution_count": null,
      "outputs": []
    },
    {
      "cell_type": "code",
      "source": [
        "# Creating list to append tweet data to\n",
        "tweets_list = []\n",
        "key='LEGO'\n",
        "start_date = date(2022, 9, 1)\n",
        "end_date = date(2022, 9, 30)\n",
        "delta = end_date - start_date\n",
        "for i in range(delta.days + 1):\n",
        "    day_start = start_date + timedelta(days=i)\n",
        "    day_end=day_start+timedelta(days=1)\n",
        "    input=str(key+' '+'since:'+str(day_start)+' '+'until:'+str(day_end))\n",
        "    # Using TwitterSearchScraper to scrape data and append tweets to list\n",
        "    for i,tweet in enumerate(sntwitter.TwitterSearchScraper(input).get_items()):\n",
        "      if i>1000:\n",
        "        break\n",
        "      tweets_list.append([tweet.date, tweet.content])\n",
        "\n",
        "# Creating a dataframe from the tweets list above\n",
        "tweets_2022_Sep= pd.DataFrame(tweets_list, columns=[\"Date Created\", \"Tweet\"])"
      ],
      "metadata": {
        "id": "zbdT25_ClYln"
      },
      "execution_count": null,
      "outputs": []
    },
    {
      "cell_type": "code",
      "source": [
        "# Creating list to append tweet data to\n",
        "tweets_list = []\n",
        "key='LEGO'\n",
        "start_date = date(2022, 10, 1)\n",
        "end_date = date(2022, 10, 25)\n",
        "delta = end_date - start_date\n",
        "for i in range(delta.days + 1):\n",
        "    day_start = start_date + timedelta(days=i)\n",
        "    day_end=day_start+timedelta(days=1)\n",
        "    input=str(key+' '+'since:'+str(day_start)+' '+'until:'+str(day_end))\n",
        "    # Using TwitterSearchScraper to scrape data and append tweets to list\n",
        "    for i,tweet in enumerate(sntwitter.TwitterSearchScraper(input).get_items()):\n",
        "      if i>1000:\n",
        "        break\n",
        "      tweets_list.append([tweet.date, tweet.content])\n",
        "\n",
        "# Creating a dataframe from the tweets list above\n",
        "tweets_2022_oct= pd.DataFrame(tweets_list, columns=[\"Date Created\", \"Tweet\"])"
      ],
      "metadata": {
        "id": "w4odFlvNlc8g"
      },
      "execution_count": null,
      "outputs": []
    },
    {
      "cell_type": "code",
      "source": [
        "tweets_2022=pd.concat([tweets_2022_Jan,tweets_2022_feb,tweets_2022_mar,tweets_2022_Apr,tweets_2022_May,tweets_2022_Jun,tweets_2022_Jul,tweets_2022_Aug,tweets_2022_Sep,tweets_2022_oct],axis=0)"
      ],
      "metadata": {
        "id": "Natja1KFilUj"
      },
      "execution_count": null,
      "outputs": []
    },
    {
      "cell_type": "code",
      "source": [
        "tweets_2022.shape"
      ],
      "metadata": {
        "colab": {
          "base_uri": "https://localhost:8080/"
        },
        "id": "HALvDgjeHbSa",
        "outputId": "acaa647f-1e95-4464-c69b-39ad9ad01be2"
      },
      "execution_count": null,
      "outputs": [
        {
          "output_type": "execute_result",
          "data": {
            "text/plain": [
              "(365365, 2)"
            ]
          },
          "metadata": {},
          "execution_count": 18
        }
      ]
    },
    {
      "cell_type": "code",
      "source": [
        "tweets_2022.to_csv('tweets_2022.csv')"
      ],
      "metadata": {
        "id": "837EoCkIHg8k"
      },
      "execution_count": null,
      "outputs": []
    }
  ]
}